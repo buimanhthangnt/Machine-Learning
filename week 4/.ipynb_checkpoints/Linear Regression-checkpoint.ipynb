{
 "cells": [
  {
   "cell_type": "markdown",
   "metadata": {},
   "source": [
    "# Hồi quy tuyến tính\n",
    "*Hoàn thành toàn bộ phần bài tập trong notebook này, bao gồm toàn bộ kết quả đầu ra và code hỗ trợ.*\n",
    "\n",
    "***\"Không có một sự kiện nào trên đời là ngẫu nhiên, những thứ đang cho là ngẫu nhiên chỉ là những sự kiện ta chưa tìm ra được mô hình để biểu diễn quy luật của chúng\".***\n",
    "\n",
    "Xây dựng mô hình **Hồi quy tuyến tính** bao gồm hai phần:\n",
    "- Trong quá trình huấn luyện, bộ phân lớp lấy dữ liệu huấn luyện và và học các tham số mô hình.\n",
    "- Trong quá trình kiếm tra, mô hình phân lớp từng đối tượng bằng cách nhân giá trị của mẫu với các tham số mô hình để tìm ra giá trị của nhãn.\n",
    "- Giá trị của tham số được kiểm định chéo.\n",
    "Trong bài tập này, bạn sẽ cài đặt những bước trên và hiểu được qui trình Xây dựng một mô hình đơn giản với Học tham số, kiểm định chéo, và hiểu được cách viết code hiệu quả với vectorize.\n",
    "\n",
    "Bài toán dự đoán giá nhà Boston được sử dụng trong bài tập này."
   ]
  },
  {
   "cell_type": "code",
   "execution_count": 1,
   "metadata": {},
   "outputs": [],
   "source": [
    "# Import một số thư viện cần thiết.\n",
    "import random\n",
    "import numpy as np\n",
    "from sklearn import datasets\n",
    "from sklearn.model_selection import train_test_split \n",
    "import matplotlib.pyplot as plt\n",
    "\n",
    "# Sử dụng một mẹo nhỏ để vẽ hình trên cùng một dòng thay vì mở cửa sổ mới\n",
    "%matplotlib inline\n",
    "plt.rcParams['figure.figsize'] = (10.0, 8.0) # đặt kích thước mặc định cho hình\n",
    "plt.rcParams['image.interpolation'] = 'nearest'\n",
    "plt.rcParams['image.cmap'] = 'gray'\n",
    "\n",
    "# Một mẹo nhỏ để notebook tự load lại các module bên ngoài;\n",
    "# xem thêm tại http://stackoverflow.com/questions/1907993/autoreload-of-modules-in-ipython\n",
    "%load_ext autoreload\n",
    "%autoreload 2"
   ]
  },
  {
   "cell_type": "code",
   "execution_count": 2,
   "metadata": {},
   "outputs": [
    {
     "name": "stdout",
     "output_type": "stream",
     "text": [
      "('Training data shape: ', (404, 13))\n",
      "('Training labels shape: ', (404,))\n",
      "('Test data shape: ', (102, 13))\n",
      "('Test labels shape: ', (102,))\n"
     ]
    }
   ],
   "source": [
    "# Tải dữ liệu Giá nhà Boston từ Scikit-learn.\n",
    "boston = datasets.load_boston()\n",
    "X_train, X_test, y_train, y_test = train_test_split(boston.data, \\\n",
    "                                                    boston.target, test_size=0.2)\n",
    "\n",
    "# As a sanity check, we print out the size of the training and test data.\n",
    "print('Training data shape: ', X_train.shape)\n",
    "print('Training labels shape: ', y_train.shape)\n",
    "print('Test data shape: ', X_test.shape)\n",
    "print('Test labels shape: ', y_test.shape)"
   ]
  },
  {
   "cell_type": "markdown",
   "metadata": {},
   "source": [
    "## Load dữ liệu\n",
    "Hồi qui tuyến tính đơn giản là một cách tiếp cận để dự đoán phản ứng (giá trị đầu ra) khi dữ liệu có một đặc trưng duy nhất. Khi giả sử hai biến $x$ và $y$ liên hệ tuyến  tính thì mục tiêu của mô hình là cố tìm ra đường tuyến tính tốt nhất để dự đoán phản ứng ($y$). \n",
    "\n",
    "Đường đó được gọi là đường hồi quy.\n",
    "\n",
    "Công thức cho đường hồi quy được biểu diễn như sau:\n",
    "$$ \\hat{Y} = h(X) = XW$$\n",
    "Trong đó: \n",
    "\n",
    "- $X$ là ma trận có kích thước $N \\times D$ với $X_{ij}$ là giá trị của đặc trưng thứ $j$ của mẫu $i$.\n",
    "- $W$ là ma trận tham số có kích thước $D \\times 1$\n",
    "- $Y$ là giá trị phản ứng của $N$ mẫu.\n",
    "\n"
   ]
  },
  {
   "cell_type": "code",
   "execution_count": 3,
   "metadata": {},
   "outputs": [
    {
     "data": {
      "image/png": "[encoded data removed]",
      "text/plain": [
       "<matplotlib.figure.Figure at 0x7f4f90623050>"
      ]
     },
     "metadata": {},
     "output_type": "display_data"
    }
   ],
   "source": [
    "# Biểu diễn một số ví dụ trong tập huấn luyện sử dụng một đặc trưng duy nhất.\n",
    "# LSTAT - % lower status of the population\n",
    "plt.scatter(X_train[:,12], y_train)\n",
    "plt.xlabel(\"Crime rate\")\n",
    "plt.ylabel(\"House's price\")\n",
    "plt.show()"
   ]
  },
  {
   "cell_type": "markdown",
   "metadata": {},
   "source": [
    "## Huấn luyện mô hình\n",
    "Tất cả code cho phần bài tập này được lưu trong tệp **models/linear_regression.py** và **models/linear_loss.py**.\n",
    "### Cập nhật tham số\n",
    "Quá trình huấn luyện mô hình thực chất là từ dữ liệu để học ra tham số mô hình phù hợp nhất với mô hình sinh dữ liệu. Trong mô hình hồi quy tuyến tính, ta cần học tham số $W$.\n",
    "\n",
    "Khi khởi tạo mô hình, ta giả sử tham số được khởi tạo ngẫu nhiên. Sử dụng tham số $W$ đó, ta ước lượng được giá trị $Y$:\n",
    "$$ \\hat{y} = h(X) = WX $$\n",
    "\n",
    "Tổng sai số, độ lệch của giá trị dự đoán so với giá trị thực tế gọi là hàm giá trị (Cost function):\n",
    "$$ J(w) = \\frac{1}{2N}\\sum_{i=1}^{N} (\\hat{y}_i - y_i)^2 = \\frac{1}{2N}\\sum_{i=1}^{N} (w_ix_i - y_i)^2$$\n",
    "\n",
    "\n",
    "Chúng ta sử thuật toán **xuống đồi (Gradient descent)** để tối ưu tham số $W$. (Xem khóa [Machine Learning](https://www.coursera.org/learn/machine-learning/))\n",
    "\n",
    "Đột tụt dốc của tham số $W$ được cập nhật theo công thức:\n",
    "$$ dw_i = \\frac{\\partial}{\\partial w_i}J(w)$$\n",
    "\n",
    "Đầu tiên, mở file ```models/linear_loss.py``` và cài đặt hàm ```linear_loss_naive```, sử dụng vòng lặp để tính hàm giá trị (Cost function)."
   ]
  },
  {
   "cell_type": "code",
   "execution_count": 4,
   "metadata": {},
   "outputs": [
    {
     "name": "stdout",
     "output_type": "stream",
     "text": [
      "loss: 287.354257\n"
     ]
    }
   ],
   "source": [
    "from models.linear_loss import linear_loss_naive\n",
    "import time\n",
    "\n",
    "# sinh ngẫu nhiên các trọng số (W) với các giá trị nhỏ\n",
    "W = np.random.randn(13, ) * 0.0001 \n",
    "\n",
    "loss, grad = linear_loss_naive(W, X_test, y_test, 0.00001)\n",
    "print('loss: %f' % (loss, ))"
   ]
  },
  {
   "cell_type": "markdown",
   "metadata": {},
   "source": [
    "Lúc này, các giá trị gradient được trả về đều bằng 0. Đạo hàm và tính gradient theo công thức được cho ở trên trong cùng hàm ```linear_loss_naive```. Bạn sẽ thấy một số thứ hữu ích trong phần cài đặt trước đó.\n",
    "\n",
    "Để đảm bảo là bạn đã cài đặt đúng, chúng ta sẽ sử dụng hàm ```grad_check_sparse``` (đã được cài đặt sẵn) để kiểm tra."
   ]
  },
  {
   "cell_type": "code",
   "execution_count": 5,
   "metadata": {
    "scrolled": false
   },
   "outputs": [
    {
     "name": "stdout",
     "output_type": "stream",
     "text": [
      "numerical: -8304.914588 analytic: -8304.914588, relative error: 3.863613e-13\n",
      "numerical: -8565.702324 analytic: -8565.702324, relative error: 2.444233e-13\n",
      "numerical: -48.972795 analytic: -48.972795, relative error: 1.516150e-10\n",
      "numerical: -48.972795 analytic: -48.972795, relative error: 1.516150e-10\n",
      "numerical: -8565.702324 analytic: -8565.702324, relative error: 2.444233e-13\n",
      "numerical: -405.601177 analytic: -405.601177, relative error: 9.466588e-12\n",
      "numerical: -1480.777109 analytic: -1480.777109, relative error: 2.994767e-12\n",
      "numerical: -225.678233 analytic: -225.678233, relative error: 3.119574e-12\n",
      "numerical: -1.689836 analytic: -1.689836, relative error: 2.247866e-10\n",
      "numerical: -8565.702324 analytic: -8565.702324, relative error: 2.444233e-13\n",
      "numerical: -8565.702436 analytic: -8565.702436, relative error: 2.366722e-13\n",
      "numerical: -143.365384 analytic: -143.365384, relative error: 5.709900e-12\n",
      "numerical: -143.365384 analytic: -143.365384, relative error: 5.709900e-12\n",
      "numerical: -405.601263 analytic: -405.601263, relative error: 1.079006e-11\n",
      "numerical: -86.916495 analytic: -86.916495, relative error: 1.538127e-11\n",
      "numerical: -273.801875 analytic: -273.801875, relative error: 1.030877e-12\n",
      "numerical: -12.167657 analytic: -12.167657, relative error: 4.087839e-10\n",
      "numerical: -273.801875 analytic: -273.801875, relative error: 1.030877e-12\n",
      "numerical: -8565.702436 analytic: -8565.702436, relative error: 2.366722e-13\n",
      "numerical: -273.801875 analytic: -273.801875, relative error: 1.030877e-12\n"
     ]
    }
   ],
   "source": [
    "# Bởi vì bạn đã cài đặt hàm gradient, tính toán gradient với code dưới đây và\n",
    "# kiểm tra với hàm grad_check_sparse(...) đã cho.\n",
    "\n",
    "# Tính toán loss và grad với W.\n",
    "loss, grad = linear_loss_naive(W, X_test, y_test, 0.0)\n",
    "\n",
    "# Tính toán gradient theo một số chiều ngẫu nhiên và so sánh chúng với kết quả\n",
    "# của bạn. Giá trị phải gần như chính xác theo tất cả các chiều.\n",
    "from models.gradient_check import grad_check_sparse\n",
    "f = lambda w: linear_loss_naive(w, X_test, y_test, 0.0)[0]\n",
    "grad_numerical = grad_check_sparse(f, W, grad)\n",
    "\n",
    "# thực hiện kiểm tra khi có sử dụng regularization\n",
    "# đừng quên cài đặt gradient với regularization nhé.\n",
    "loss, grad = linear_loss_naive(W, X_test, y_test, 1e2)\n",
    "f = lambda w: linear_loss_naive(w, X_test, y_test, 1e2)[0]\n",
    "grad_numerical = grad_check_sparse(f, W, grad)\n",
    "\n",
    "# Kết quả relative error trong khoảng 1e-12"
   ]
  },
  {
   "cell_type": "code",
   "execution_count": 6,
   "metadata": {},
   "outputs": [
    {
     "name": "stdout",
     "output_type": "stream",
     "text": [
      "Naive loss: 2.873543e+02 computed in 0.002248s\n",
      "Vectorized loss: 2.873543e+02 computed in 0.000428s\n",
      "difference: 0.000000\n"
     ]
    }
   ],
   "source": [
    "# Kế tiếp, cài đặt linear_loss_vectorized; hiện tại chỉ tính toán hàm giá trị;\n",
    "# gradient sẽ cài đặt sau.\n",
    "tic = time.time()\n",
    "loss_naive, grad_naive = linear_loss_naive(W, X_test, y_test, 0.00001)\n",
    "toc = time.time()\n",
    "print('Naive loss: %e computed in %fs' % (loss_naive, toc - tic))\n",
    "\n",
    "# Vectorized\n",
    "from models.linear_loss import linear_loss_vectorized\n",
    "tic = time.time()\n",
    "loss_vectorized, _ = linear_loss_vectorized(W, X_test, y_test, 0.00001)\n",
    "toc = time.time()\n",
    "print('Vectorized loss: %e computed in %fs' % (loss_vectorized, toc - tic))\n",
    "\n",
    "# Hàm giá trị khi vectorized nên có cùng giá trị với giá trị được tính bằng hàm\n",
    "# linear_loss_naive() nhưng tính toán nhanh hơn\n",
    "print('difference: %f' % (loss_naive - loss_vectorized))"
   ]
  },
  {
   "cell_type": "code",
   "execution_count": 7,
   "metadata": {},
   "outputs": [
    {
     "name": "stdout",
     "output_type": "stream",
     "text": [
      "Naive loss and gradient: computed in 0.003543s\n",
      "Vectorized loss and gradient: computed in 0.000290s\n",
      "difference: 0.0\n"
     ]
    }
   ],
   "source": [
    "# Hoàn thiện phần cài đặt của linear_loss_vectorized, và tính toán gradient theo\n",
    "# cách vectorized.\n",
    "\n",
    "# Hai hàm tính loss và gradient nên cho kết quả giống nhau nhưng bản vectorized \n",
    "# tính toán nhanh hơn.\n",
    "tic = time.time()\n",
    "_, grad_naive = linear_loss_naive(W, X_test, y_test, 0.00001)\n",
    "toc = time.time()\n",
    "print('Naive loss and gradient: computed in %fs' % (toc - tic))\n",
    "\n",
    "tic = time.time()\n",
    "_, grad_vectorized = linear_loss_vectorized(W, X_test, y_test, 0.00001)\n",
    "toc = time.time()\n",
    "print('Vectorized loss and gradient: computed in %fs' % (toc - tic))\n",
    "\n",
    "# So sánh gradient\n",
    "difference = np.linalg.norm(grad_naive - grad_vectorized)\n",
    "print('difference: {}'.format(difference))"
   ]
  },
  {
   "cell_type": "markdown",
   "metadata": {
    "collapsed": true
   },
   "source": [
    "### Huấn luyện với hàm cập nhật\n",
    "Sử dụng các hàm ```loss``` đã cài đặt ở trên để cài đặt hàm ```train``` trong tệp **linear_regression.py**.\n",
    "\n",
    "Tham số W được cập nhật từng thành phần theo công thức:\n",
    "$$ w_i =  w_i -\\alpha\\frac{\\partial}{\\partial w_i}J(w)$$"
   ]
  },
  {
   "cell_type": "code",
   "execution_count": 27,
   "metadata": {},
   "outputs": [
    {
     "name": "stdout",
     "output_type": "stream",
     "text": [
      "iteration 0 / 1500: loss 120763.642866\n",
      "iteration 100 / 1500: loss 4942.678821\n",
      "iteration 200 / 1500: loss 4207.670931\n",
      "iteration 300 / 1500: loss 3875.639868\n",
      "iteration 400 / 1500: loss 3667.950101\n",
      "iteration 500 / 1500: loss 3537.291629\n",
      "iteration 600 / 1500: loss 3454.498352\n",
      "iteration 700 / 1500: loss 3401.452590\n",
      "iteration 800 / 1500: loss 3366.899539\n",
      "iteration 900 / 1500: loss 3343.847599\n",
      "iteration 1000 / 1500: loss 3327.953474\n",
      "iteration 1100 / 1500: loss 3316.518986\n",
      "iteration 1200 / 1500: loss 3307.867908\n",
      "iteration 1300 / 1500: loss 3300.958845\n",
      "iteration 1400 / 1500: loss 3295.144763\n",
      "That took 7.477584s\n"
     ]
    }
   ],
   "source": [
    "# Ở trong tệp linear_regression.py, cài đặt hàm LinearRegression.train() và chạy\n",
    "# hàm đó với code sau\n",
    "from models.linear_regression import LinearRegression\n",
    "clf = LinearRegression()\n",
    "tic = time.time()\n",
    "loss_hist = clf.train(X_train, y_train, learning_rate=1e-7, reg=5e4,\n",
    "                      num_iters=1500, verbose=True)\n",
    "toc = time.time()\n",
    "print('That took %fs' % (toc - tic))"
   ]
  },
  {
   "cell_type": "code",
   "execution_count": 9,
   "metadata": {},
   "outputs": [
    {
     "data": {
      "image/png": "[encoded data removed]",
      "text/plain": [
       "<matplotlib.figure.Figure at 0x7f4f5f8e5ad0>"
      ]
     },
     "metadata": {},
     "output_type": "display_data"
    }
   ],
   "source": [
    "# Một chiến thuật debug hiệu quả được sử dụng đó là vẽ ra lịch sử mất mát (loss \n",
    "# history) như là một hàm với số lần lặp.\n",
    "plt.plot(loss_hist)\n",
    "plt.xlabel('Iteration number')\n",
    "plt.ylabel('Loss value')\n",
    "plt.show()"
   ]
  },
  {
   "cell_type": "code",
   "execution_count": 26,
   "metadata": {},
   "outputs": [
    {
     "name": "stdout",
     "output_type": "stream",
     "text": [
      "training accuracy: 0.000000\n",
      "validation accuracy: 0.000000\n"
     ]
    },
    {
     "name": "stderr",
     "output_type": "stream",
     "text": [
      "/usr/local/lib/python2.7/dist-packages/ipykernel_launcher.py:6: DeprecationWarning: elementwise == comparison failed; this will raise an error in the future.\n",
      "  \n"
     ]
    }
   ],
   "source": [
    "# Cài đặt hàm LinearRegression.predict đánh giá hiệu năng mô hình trên cả tập\n",
    "# huấn luyện và tệp kiểm tra.\n",
    "y_train_pred = clf.predict(X_train)\n",
    "print('training accuracy: %f' % (np.mean(y_train == y_train_pred), ))\n",
    "y_test_pred = clf.predict(X_test)\n",
    "print('validation accuracy: %f' % (np.mean(y_test == y_test_pred), ))"
   ]
  },
  {
   "cell_type": "code",
   "execution_count": 28,
   "metadata": {},
   "outputs": [
    {
     "name": "stdout",
     "output_type": "stream",
     "text": [
      "iteration 0 / 100: loss 112701.187937\n"
     ]
    },
    {
     "name": "stderr",
     "output_type": "stream",
     "text": [
      "/usr/local/lib/python2.7/dist-packages/ipykernel_launcher.py:33: DeprecationWarning: elementwise == comparison failed; this will raise an error in the future.\n"
     ]
    },
    {
     "name": "stdout",
     "output_type": "stream",
     "text": [
      "iteration 0 / 100: loss 122784.471001\n",
      "iteration 0 / 100: loss 116800.717040\n",
      "iteration 0 / 100: loss 118042.538238\n",
      "iteration 0 / 100: loss 118439.370744\n",
      "iteration 0 / 100: loss 118903.396557\n",
      "iteration 0 / 100: loss 110968.853601\n",
      "iteration 0 / 100: loss 120545.797138\n",
      "iteration 0 / 100: loss 126553.784666\n",
      "iteration 0 / 100: loss 123122.736808\n",
      "iteration 0 / 100: loss 118541.408714\n",
      "iteration 0 / 100: loss 118220.126058\n",
      "iteration 0 / 100: loss 119565.136371\n",
      "iteration 0 / 100: loss 123507.293423\n",
      "iteration 0 / 100: loss 116368.322874\n",
      "iteration 0 / 100: loss 119651.969981\n",
      "iteration 0 / 100: loss 131617.876782\n",
      "iteration 0 / 100: loss 125598.772342\n",
      "iteration 0 / 100: loss 129194.707522\n",
      "iteration 0 / 100: loss 125252.470232\n",
      "iteration 0 / 100: loss 118540.848570\n",
      "iteration 0 / 100: loss 122466.287391\n",
      "iteration 0 / 100: loss 120894.997383\n",
      "iteration 0 / 100: loss 123009.910240\n",
      "iteration 0 / 100: loss 118692.151484\n",
      "iteration 0 / 100: loss 118525.196531\n",
      "iteration 0 / 100: loss 129257.233248\n",
      "iteration 0 / 100: loss 113580.887516\n",
      "iteration 0 / 100: loss 120361.394986\n",
      "iteration 0 / 100: loss 117326.382500\n",
      "iteration 0 / 100: loss 118007.337047\n",
      "iteration 0 / 100: loss 118871.264324\n",
      "iteration 0 / 100: loss 122861.344510\n",
      "iteration 0 / 100: loss 116684.476574\n",
      "iteration 0 / 100: loss 127307.425893\n",
      "iteration 0 / 100: loss 121550.611053\n",
      "lr 5.000000e+04 reg 1.000000e-07 train accuracy: 0.000000 val accuracy: 0.000000\n",
      "lr 5.000000e+04 reg 5.000000e-07 train accuracy: 0.000000 val accuracy: 0.000000\n",
      "lr 5.000000e+04 reg 1.000000e-06 train accuracy: 0.000000 val accuracy: 0.000000\n",
      "lr 5.000000e+04 reg 5.000000e-06 train accuracy: 0.000000 val accuracy: 0.000000\n",
      "lr 5.000000e+04 reg 1.000000e-05 train accuracy: 0.000000 val accuracy: 0.000000\n",
      "lr 5.000000e+04 reg 5.000000e-05 train accuracy: 0.000000 val accuracy: 0.000000\n",
      "lr 6.000000e+04 reg 1.000000e-07 train accuracy: 0.000000 val accuracy: 0.000000\n",
      "lr 6.000000e+04 reg 5.000000e-07 train accuracy: 0.000000 val accuracy: 0.000000\n",
      "lr 6.000000e+04 reg 1.000000e-06 train accuracy: 0.000000 val accuracy: 0.000000\n",
      "lr 6.000000e+04 reg 5.000000e-06 train accuracy: 0.000000 val accuracy: 0.000000\n",
      "lr 6.000000e+04 reg 1.000000e-05 train accuracy: 0.000000 val accuracy: 0.000000\n",
      "lr 6.000000e+04 reg 5.000000e-05 train accuracy: 0.000000 val accuracy: 0.000000\n",
      "lr 7.000000e+04 reg 1.000000e-07 train accuracy: 0.000000 val accuracy: 0.000000\n",
      "lr 7.000000e+04 reg 5.000000e-07 train accuracy: 0.000000 val accuracy: 0.000000\n",
      "lr 7.000000e+04 reg 1.000000e-06 train accuracy: 0.000000 val accuracy: 0.000000\n",
      "lr 7.000000e+04 reg 5.000000e-06 train accuracy: 0.000000 val accuracy: 0.000000\n",
      "lr 7.000000e+04 reg 1.000000e-05 train accuracy: 0.000000 val accuracy: 0.000000\n",
      "lr 7.000000e+04 reg 5.000000e-05 train accuracy: 0.000000 val accuracy: 0.000000\n",
      "lr 8.000000e+04 reg 1.000000e-07 train accuracy: 0.000000 val accuracy: 0.000000\n",
      "lr 8.000000e+04 reg 5.000000e-07 train accuracy: 0.000000 val accuracy: 0.000000\n",
      "lr 8.000000e+04 reg 1.000000e-06 train accuracy: 0.000000 val accuracy: 0.000000\n",
      "lr 8.000000e+04 reg 5.000000e-06 train accuracy: 0.000000 val accuracy: 0.000000\n",
      "lr 8.000000e+04 reg 1.000000e-05 train accuracy: 0.000000 val accuracy: 0.000000\n",
      "lr 8.000000e+04 reg 5.000000e-05 train accuracy: 0.000000 val accuracy: 0.000000\n",
      "lr 9.000000e+04 reg 1.000000e-07 train accuracy: 0.000000 val accuracy: 0.000000\n",
      "lr 9.000000e+04 reg 5.000000e-07 train accuracy: 0.000000 val accuracy: 0.000000\n",
      "lr 9.000000e+04 reg 1.000000e-06 train accuracy: 0.000000 val accuracy: 0.000000\n",
      "lr 9.000000e+04 reg 5.000000e-06 train accuracy: 0.000000 val accuracy: 0.000000\n",
      "lr 9.000000e+04 reg 1.000000e-05 train accuracy: 0.000000 val accuracy: 0.000000\n",
      "lr 9.000000e+04 reg 5.000000e-05 train accuracy: 0.000000 val accuracy: 0.000000\n",
      "lr 1.000000e+05 reg 1.000000e-07 train accuracy: 0.000000 val accuracy: 0.000000\n",
      "lr 1.000000e+05 reg 5.000000e-07 train accuracy: 0.000000 val accuracy: 0.000000\n",
      "lr 1.000000e+05 reg 1.000000e-06 train accuracy: 0.000000 val accuracy: 0.000000\n",
      "lr 1.000000e+05 reg 5.000000e-06 train accuracy: 0.000000 val accuracy: 0.000000\n",
      "lr 1.000000e+05 reg 1.000000e-05 train accuracy: 0.000000 val accuracy: 0.000000\n",
      "lr 1.000000e+05 reg 5.000000e-05 train accuracy: 0.000000 val accuracy: 0.000000\n",
      "best validation accuracy achieved during cross-validation: 0.000000\n"
     ]
    }
   ],
   "source": [
    "# Sử dụng tập kiểm tra để điều chỉnh các siêu tham số (độ lớn của reg và tỉ\n",
    "# lệ học. Bạn nên thực nghiệm với nhiều khoảng giá trị của 2 siêu tham số này\n",
    "# Nếu bạn đủ cẩn thận, bạn có thể đạt độ chính xác ... trên tập kiểm tra.\n",
    "learning_rates = [1e-7, 5e-7, 1e-6, 5e-6, 1e-5, 5e-5]\n",
    "regularization_strengths = [5e4, 6e4, 7e4, 8e4, 9e4, 1e5]\n",
    "\n",
    "# kết quả là một từ điển ánh xạ từ tuple có dạng (reg, lr) sang tuple có dạng\n",
    "# (train_acc, test_acc). Độ chính xác chỉ đơn giản là tỉ lệ mẫu dự đoán chính\n",
    "# xác trên toàn tập dữ liệu.\n",
    "results = {}\n",
    "best_test = -1   # Hiệu năng tốt nhất mà chúng ta sẽ đạt được.\n",
    "best_linear = None # Mô hình LinearRegression có hiệu năng tốt nhất.\n",
    "\n",
    "################################################################################\n",
    "# TODO:                                                                        #\n",
    "# Viết code chọn các siêu tham số tốt nhất bằng cách điều chỉnh trên tập kiểm  #\n",
    "# tra. Với mỗi tổ hợp siêu tham số, huấn luyện một mô hình LinearRegression    #\n",
    "# trên tập huấn luyện, tính toán độ chính xác trên tập huấn luyện và tập kiểm  #\n",
    "# tra, và lưu những con số này vào từ điển kết quả. Thêm vào đó, lưu hiệu năng #\n",
    "# tốt nhất trên tập kiểm tra vào best_val và mô hình LinearRegression tương    #\n",
    "# ứng vào best_svm.                                                            #  \n",
    "#                                                                              #\n",
    "# Gợi ý: Bạn nên sử dụng số vòng lặp (num_iters) nhỏ khi xây dựng code kiểm    #\n",
    "# tra để mô hình không mất quá nhiều thời gian để huấn luyện. Khi đã chắc chắn,#\n",
    "# bạn nên trả về kết quả với số vòng lặp lớn                                   #\n",
    "################################################################################\n",
    "for lr in learning_rates:\n",
    "    for rs in regularization_strengths:\n",
    "        clf = LinearRegression()\n",
    "        clf.train(X_train, y_train, learning_rate=lr, reg=rs, num_iters=100, verbose=True)\n",
    "        y_test_pred = clf.predict(X_test)\n",
    "        y_train_pred = clf.predict(X_train)\n",
    "        test_acc = np.mean(y_test == y_test_pred)\n",
    "        train_acc = np.mean(y_train == y_train_pred)\n",
    "        results[(rs, lr)] = (train_acc, test_acc)\n",
    "        if test_acc > best_test:\n",
    "            best_test = test_acc\n",
    "            best_linear = (rs, lr)\n",
    "################################################################################\n",
    "#                              KẾT THÚC                                        #\n",
    "################################################################################\n",
    "    \n",
    "# In kết quả\n",
    "for lr, reg in sorted(results):\n",
    "    train_accuracy, test_accuracy = results[(lr, reg)]\n",
    "    print('lr %e reg %e train accuracy: %f val accuracy: %f' % (\n",
    "                lr, reg, train_accuracy, test_accuracy))\n",
    "    \n",
    "print('best validation accuracy achieved during cross-validation: %f' % best_test)"
   ]
  },
  {
   "cell_type": "code",
   "execution_count": 32,
   "metadata": {},
   "outputs": [
    {
     "data": {
      "image/png": "[encoded data removed]",
      "text/plain": [
       "<matplotlib.figure.Figure at 0x7f4f5f63d510>"
      ]
     },
     "metadata": {},
     "output_type": "display_data"
    }
   ],
   "source": [
    "# Visualize kết quả kiểm thử chéo\n",
    "import math\n",
    "x_scatter = [math.log10(x[0]) for x in results]\n",
    "y_scatter = [math.log10(x[1]) for x in results]\n",
    "\n",
    "# plot training accuracy\n",
    "marker_size = 100\n",
    "colors = [results[x][0] for x in results]\n",
    "plt.subplot(2, 1, 1)\n",
    "plt.scatter(x_scatter, y_scatter, marker_size, c=colors)\n",
    "plt.colorbar()\n",
    "plt.xlabel('log learning rate')\n",
    "plt.ylabel('log regularization strength')\n",
    "plt.title('Boston training accuracy')\n",
    "# vẽ hiệu năng trên tập kiểm tra\n",
    "colors = [results[x][1] for x in results] # kích thước mặc định của marker là 20\n",
    "plt.subplot(2, 1, 2)\n",
    "plt.scatter(x_scatter, y_scatter, marker_size, c=colors)\n",
    "plt.colorbar()\n",
    "plt.xlabel('log learning rate')\n",
    "plt.ylabel('log regularization strength')\n",
    "plt.title('Boston test accuracy')\n",
    "plt.show()"
   ]
  },
  {
   "cell_type": "code",
   "execution_count": null,
   "metadata": {
    "collapsed": true
   },
   "outputs": [],
   "source": []
  }
 ],
 "metadata": {
  "kernelspec": {
   "display_name": "Python 3",
   "language": "python",
   "name": "python3"
  },
  "language_info": {
   "codemirror_mode": {
    "name": "ipython",
    "version": 2
   },
   "file_extension": ".py",
   "mimetype": "text/x-python",
   "name": "python",
   "nbconvert_exporter": "python",
   "pygments_lexer": "ipython2",
   "version": "2.7.12"
  }
 },
 "nbformat": 4,
 "nbformat_minor": 2
}
