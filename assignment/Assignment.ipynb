{
 "cells": [
  {
   "cell_type": "code",
   "execution_count": 1,
   "metadata": {},
   "outputs": [],
   "source": [
    "def relu(x):\n",
    "    return 1.0 / (1 + math.exp(-x))\n",
    "def neuron_output(weights, inputs):\n",
    "    return relu(dot(weights, inputs))\n",
    "def feed_forward(neural_network, input_vector):\n",
    "    outputs = []\n",
    "    for layer in neural_network:\n",
    "        input_bias = input_vector + [1]\n",
    "        output = [neuron_output(neuron, input_bias) for neuron in layer]\n",
    "        outputs.append(output)\n",
    "        input_vector = output\n",
    "    return outputs\n",
    "def backpropagation(network, input_vector, targets):\n",
    "    hidden_outputs, outputs = feed_forward(network, input_vector)\n",
    "    output_grads = [output * (1 - output) * (output - target) for output, target in zip(outputs, targets)]\n",
    "    for i, output_neuron in enumerate(network[-1]):\n",
    "        for j, hidden_output in enumerate(hidden_outputs + [1]):\n",
    "            output_neuron[j] -= output_grads[i] * hidden_output\n",
    "    "
   ]
  },
  {
   "cell_type": "code",
   "execution_count": null,
   "metadata": {},
   "outputs": [],
   "source": []
  }
 ],
 "metadata": {
  "kernelspec": {
   "display_name": "Python 3",
   "language": "python",
   "name": "python3"
  },
  "language_info": {
   "codemirror_mode": {
    "name": "ipython",
    "version": 3
   },
   "file_extension": ".py",
   "mimetype": "text/x-python",
   "name": "python",
   "nbconvert_exporter": "python",
   "pygments_lexer": "ipython3",
   "version": "3.6.4"
  }
 },
 "nbformat": 4,
 "nbformat_minor": 2
}
