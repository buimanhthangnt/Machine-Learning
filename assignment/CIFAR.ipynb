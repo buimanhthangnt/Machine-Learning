{
 "cells": [
  {
   "cell_type": "code",
   "execution_count": 9,
   "metadata": {},
   "outputs": [],
   "source": [
    "from keras.layers import Conv2D, MaxPool2D, Dense, Flatten, Dropout, BatchNormalization\n",
    "from keras import optimizers\n",
    "from keras.models import Sequential\n",
    "from keras.utils import np_utils\n",
    "import numpy as np"
   ]
  },
  {
   "cell_type": "code",
   "execution_count": 10,
   "metadata": {},
   "outputs": [
    {
     "name": "stdout",
     "output_type": "stream",
     "text": [
      "Training data shape:  (20000, 32, 32, 3)\n",
      "Training labels shape:  (20000, 10)\n",
      "Test data shape:  (1000, 32, 32, 3)\n",
      "Test labels shape:  (1000, 10)\n"
     ]
    }
   ],
   "source": [
    "from keras.datasets import cifar10\n",
    "(X_train, y_train), (X_test, y_test) = cifar10.load_data()\n",
    "\n",
    "num_training = 20000\n",
    "mask = range(num_training)\n",
    "X_train = X_train[mask]\n",
    "y_train = y_train[mask]\n",
    "\n",
    "num_test = 1000\n",
    "mask = range(num_test)\n",
    "X_test = X_test[mask]\n",
    "y_test = y_test[mask]\n",
    "\n",
    "X_train = X_train.astype('float16') / 255\n",
    "X_test = X_test.astype('float16') / 255\n",
    "\n",
    "y_train = np_utils.to_categorical(y_train, 10)\n",
    "y_test = np_utils.to_categorical(y_test, 10)\n",
    "\n",
    "print('Training data shape: ', X_train.shape)\n",
    "print('Training labels shape: ', y_train.shape)\n",
    "print('Test data shape: ', X_test.shape)\n",
    "print('Test labels shape: ', y_test.shape)"
   ]
  },
  {
   "cell_type": "code",
   "execution_count": 11,
   "metadata": {},
   "outputs": [
    {
     "name": "stdout",
     "output_type": "stream",
     "text": [
      "Train on 20000 samples, validate on 1000 samples\n",
      "Epoch 1/3\n",
      "20000/20000 [==============================] - 522s 26ms/step - loss: 2.1373 - acc: 0.1963 - val_loss: 1.8137 - val_acc: 0.3090\n",
      "Epoch 2/3\n",
      "20000/20000 [==============================] - 532s 27ms/step - loss: 1.7576 - acc: 0.3373 - val_loss: 1.5669 - val_acc: 0.4100\n",
      "Epoch 3/3\n",
      "20000/20000 [==============================] - 519s 26ms/step - loss: 1.5427 - acc: 0.4286 - val_loss: 1.3959 - val_acc: 0.4900\n"
     ]
    },
    {
     "data": {
      "text/plain": [
       "<keras.callbacks.History at 0x26a5f95fe80>"
      ]
     },
     "execution_count": 11,
     "metadata": {},
     "output_type": "execute_result"
    }
   ],
   "source": [
    "model = Sequential()\n",
    "model.add(Conv2D(48, (3,3), input_shape=X_train.shape[1:], padding='same', activation='relu'))\n",
    "model.add(Conv2D(48, (3,3), padding='same', activation='relu'))\n",
    "model.add(MaxPool2D(pool_size=(2, 2), strides=(2,2)))\n",
    "model.add(Dropout(0.25))\n",
    "model.add(Conv2D(96, (3,3), padding='same', activation='relu'))\n",
    "model.add(Conv2D(96, (3,3), padding='same', activation='relu'))\n",
    "model.add(MaxPool2D(pool_size=(2, 2), strides=(2,2)))\n",
    "model.add(Dropout(0.25))\n",
    "model.add(Conv2D(192, (3,3), padding='same', activation='relu'))\n",
    "model.add(Conv2D(192, (3,3), padding='same', activation='relu'))\n",
    "model.add(MaxPool2D(pool_size=(2, 2), strides=(2,2)))\n",
    "model.add(Dropout(0.25))\n",
    "model.add(Flatten())\n",
    "model.add(Dense(512, activation='relu'))\n",
    "model.add(Dropout(0.5))\n",
    "model.add(Dense(256, activation='relu'))\n",
    "model.add(Dropout(0.5))\n",
    "model.add(Dense(10, activation='softmax'))\n",
    "# Compile the model\n",
    "model.compile(optimizer='adam', loss='categorical_crossentropy', metrics=['accuracy'])\n",
    "# Train the model\n",
    "model.fit(X_train, y_train, batch_size=128, epochs=3, validation_data = (X_test, y_test))\n",
    "# model.summary()"
   ]
  },
  {
   "cell_type": "code",
   "execution_count": 12,
   "metadata": {},
   "outputs": [
    {
     "name": "stdout",
     "output_type": "stream",
     "text": [
      "Accuracy on test data is: 49.00\n"
     ]
    }
   ],
   "source": [
    "def accuracy(test_x, test_y, model):\n",
    "    result = model.predict(test_x)\n",
    "    predicted_class = np.argmax(result, axis=1)\n",
    "    true_class = np.argmax(test_y, axis=1)\n",
    "    num_correct = np.sum(predicted_class == true_class) \n",
    "    accuracy = float(num_correct)/result.shape[0]\n",
    "    return (accuracy * 100)\n",
    "print(\"Accuracy on test data is: %0.2f\" % accuracy(X_test, y_test, model))"
   ]
  },
  {
   "cell_type": "code",
   "execution_count": null,
   "metadata": {},
   "outputs": [],
   "source": []
  }
 ],
 "metadata": {
  "kernelspec": {
   "display_name": "Python 3",
   "language": "python",
   "name": "python3"
  },
  "language_info": {
   "codemirror_mode": {
    "name": "ipython",
    "version": 3
   },
   "file_extension": ".py",
   "mimetype": "text/x-python",
   "name": "python",
   "nbconvert_exporter": "python",
   "pygments_lexer": "ipython3",
   "version": "3.6.4"
  }
 },
 "nbformat": 4,
 "nbformat_minor": 2
}
